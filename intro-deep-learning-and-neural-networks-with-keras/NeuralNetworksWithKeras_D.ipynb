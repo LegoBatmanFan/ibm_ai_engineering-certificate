{
 "cells": [
  {
   "cell_type": "markdown",
   "metadata": {},
   "source": [
    "# Introduction to Deep Learning & Neural Networks with Keras Course Project\n",
    "created by: Lena Horsley\n",
    "\n",
    "In this course project, you will build a regression model using the deep learning Keras library, and then you will experiment with increasing the number of training epochs and changing number of hidden layers and you will see how changing these parameters impacts the performance of the model."
   ]
  },
  {
   "cell_type": "markdown",
   "metadata": {},
   "source": [
    "### Part D. Increase the number of hidden layers \n",
    "\n",
    "Repeat part B but use a neural network with the following instead:\n",
    "\n",
    "- Three hidden layers, each of 10 nodes and ReLU activation function."
   ]
  },
  {
   "cell_type": "code",
   "execution_count": 1,
   "metadata": {},
   "outputs": [],
   "source": [
    "import pandas as pd\n",
    "import numpy as np"
   ]
  },
  {
   "cell_type": "markdown",
   "metadata": {},
   "source": [
    "### Let's look at the data"
   ]
  },
  {
   "cell_type": "code",
   "execution_count": 2,
   "metadata": {},
   "outputs": [
    {
     "data": {
      "text/html": [
       "<div>\n",
       "<style scoped>\n",
       "    .dataframe tbody tr th:only-of-type {\n",
       "        vertical-align: middle;\n",
       "    }\n",
       "\n",
       "    .dataframe tbody tr th {\n",
       "        vertical-align: top;\n",
       "    }\n",
       "\n",
       "    .dataframe thead th {\n",
       "        text-align: right;\n",
       "    }\n",
       "</style>\n",
       "<table border=\"1\" class=\"dataframe\">\n",
       "  <thead>\n",
       "    <tr style=\"text-align: right;\">\n",
       "      <th></th>\n",
       "      <th>Cement</th>\n",
       "      <th>Blast Furnace Slag</th>\n",
       "      <th>Fly Ash</th>\n",
       "      <th>Water</th>\n",
       "      <th>Superplasticizer</th>\n",
       "      <th>Coarse Aggregate</th>\n",
       "      <th>Fine Aggregate</th>\n",
       "      <th>Age</th>\n",
       "      <th>Strength</th>\n",
       "    </tr>\n",
       "  </thead>\n",
       "  <tbody>\n",
       "    <tr>\n",
       "      <th>0</th>\n",
       "      <td>540.0</td>\n",
       "      <td>0.0</td>\n",
       "      <td>0.0</td>\n",
       "      <td>162.0</td>\n",
       "      <td>2.5</td>\n",
       "      <td>1040.0</td>\n",
       "      <td>676.0</td>\n",
       "      <td>28</td>\n",
       "      <td>79.99</td>\n",
       "    </tr>\n",
       "    <tr>\n",
       "      <th>1</th>\n",
       "      <td>540.0</td>\n",
       "      <td>0.0</td>\n",
       "      <td>0.0</td>\n",
       "      <td>162.0</td>\n",
       "      <td>2.5</td>\n",
       "      <td>1055.0</td>\n",
       "      <td>676.0</td>\n",
       "      <td>28</td>\n",
       "      <td>61.89</td>\n",
       "    </tr>\n",
       "    <tr>\n",
       "      <th>2</th>\n",
       "      <td>332.5</td>\n",
       "      <td>142.5</td>\n",
       "      <td>0.0</td>\n",
       "      <td>228.0</td>\n",
       "      <td>0.0</td>\n",
       "      <td>932.0</td>\n",
       "      <td>594.0</td>\n",
       "      <td>270</td>\n",
       "      <td>40.27</td>\n",
       "    </tr>\n",
       "    <tr>\n",
       "      <th>3</th>\n",
       "      <td>332.5</td>\n",
       "      <td>142.5</td>\n",
       "      <td>0.0</td>\n",
       "      <td>228.0</td>\n",
       "      <td>0.0</td>\n",
       "      <td>932.0</td>\n",
       "      <td>594.0</td>\n",
       "      <td>365</td>\n",
       "      <td>41.05</td>\n",
       "    </tr>\n",
       "    <tr>\n",
       "      <th>4</th>\n",
       "      <td>198.6</td>\n",
       "      <td>132.4</td>\n",
       "      <td>0.0</td>\n",
       "      <td>192.0</td>\n",
       "      <td>0.0</td>\n",
       "      <td>978.4</td>\n",
       "      <td>825.5</td>\n",
       "      <td>360</td>\n",
       "      <td>44.30</td>\n",
       "    </tr>\n",
       "  </tbody>\n",
       "</table>\n",
       "</div>"
      ],
      "text/plain": [
       "   Cement  Blast Furnace Slag  Fly Ash  Water  Superplasticizer  \\\n",
       "0   540.0                 0.0      0.0  162.0               2.5   \n",
       "1   540.0                 0.0      0.0  162.0               2.5   \n",
       "2   332.5               142.5      0.0  228.0               0.0   \n",
       "3   332.5               142.5      0.0  228.0               0.0   \n",
       "4   198.6               132.4      0.0  192.0               0.0   \n",
       "\n",
       "   Coarse Aggregate  Fine Aggregate  Age  Strength  \n",
       "0            1040.0           676.0   28     79.99  \n",
       "1            1055.0           676.0   28     61.89  \n",
       "2             932.0           594.0  270     40.27  \n",
       "3             932.0           594.0  365     41.05  \n",
       "4             978.4           825.5  360     44.30  "
      ]
     },
     "execution_count": 2,
     "metadata": {},
     "output_type": "execute_result"
    }
   ],
   "source": [
    "concrete_data = pd.read_csv('https://cocl.us/concrete_data')\n",
    "concrete_data.head()"
   ]
  },
  {
   "cell_type": "code",
   "execution_count": 3,
   "metadata": {},
   "outputs": [
    {
     "data": {
      "text/plain": [
       "(1030, 9)"
      ]
     },
     "execution_count": 3,
     "metadata": {},
     "output_type": "execute_result"
    }
   ],
   "source": [
    "concrete_data.shape"
   ]
  },
  {
   "cell_type": "code",
   "execution_count": 4,
   "metadata": {},
   "outputs": [
    {
     "data": {
      "text/html": [
       "<div>\n",
       "<style scoped>\n",
       "    .dataframe tbody tr th:only-of-type {\n",
       "        vertical-align: middle;\n",
       "    }\n",
       "\n",
       "    .dataframe tbody tr th {\n",
       "        vertical-align: top;\n",
       "    }\n",
       "\n",
       "    .dataframe thead th {\n",
       "        text-align: right;\n",
       "    }\n",
       "</style>\n",
       "<table border=\"1\" class=\"dataframe\">\n",
       "  <thead>\n",
       "    <tr style=\"text-align: right;\">\n",
       "      <th></th>\n",
       "      <th>Cement</th>\n",
       "      <th>Blast Furnace Slag</th>\n",
       "      <th>Fly Ash</th>\n",
       "      <th>Water</th>\n",
       "      <th>Superplasticizer</th>\n",
       "      <th>Coarse Aggregate</th>\n",
       "      <th>Fine Aggregate</th>\n",
       "      <th>Age</th>\n",
       "      <th>Strength</th>\n",
       "    </tr>\n",
       "  </thead>\n",
       "  <tbody>\n",
       "    <tr>\n",
       "      <th>count</th>\n",
       "      <td>1030.000000</td>\n",
       "      <td>1030.000000</td>\n",
       "      <td>1030.000000</td>\n",
       "      <td>1030.000000</td>\n",
       "      <td>1030.000000</td>\n",
       "      <td>1030.000000</td>\n",
       "      <td>1030.000000</td>\n",
       "      <td>1030.000000</td>\n",
       "      <td>1030.000000</td>\n",
       "    </tr>\n",
       "    <tr>\n",
       "      <th>mean</th>\n",
       "      <td>281.167864</td>\n",
       "      <td>73.895825</td>\n",
       "      <td>54.188350</td>\n",
       "      <td>181.567282</td>\n",
       "      <td>6.204660</td>\n",
       "      <td>972.918932</td>\n",
       "      <td>773.580485</td>\n",
       "      <td>45.662136</td>\n",
       "      <td>35.817961</td>\n",
       "    </tr>\n",
       "    <tr>\n",
       "      <th>std</th>\n",
       "      <td>104.506364</td>\n",
       "      <td>86.279342</td>\n",
       "      <td>63.997004</td>\n",
       "      <td>21.354219</td>\n",
       "      <td>5.973841</td>\n",
       "      <td>77.753954</td>\n",
       "      <td>80.175980</td>\n",
       "      <td>63.169912</td>\n",
       "      <td>16.705742</td>\n",
       "    </tr>\n",
       "    <tr>\n",
       "      <th>min</th>\n",
       "      <td>102.000000</td>\n",
       "      <td>0.000000</td>\n",
       "      <td>0.000000</td>\n",
       "      <td>121.800000</td>\n",
       "      <td>0.000000</td>\n",
       "      <td>801.000000</td>\n",
       "      <td>594.000000</td>\n",
       "      <td>1.000000</td>\n",
       "      <td>2.330000</td>\n",
       "    </tr>\n",
       "    <tr>\n",
       "      <th>25%</th>\n",
       "      <td>192.375000</td>\n",
       "      <td>0.000000</td>\n",
       "      <td>0.000000</td>\n",
       "      <td>164.900000</td>\n",
       "      <td>0.000000</td>\n",
       "      <td>932.000000</td>\n",
       "      <td>730.950000</td>\n",
       "      <td>7.000000</td>\n",
       "      <td>23.710000</td>\n",
       "    </tr>\n",
       "    <tr>\n",
       "      <th>50%</th>\n",
       "      <td>272.900000</td>\n",
       "      <td>22.000000</td>\n",
       "      <td>0.000000</td>\n",
       "      <td>185.000000</td>\n",
       "      <td>6.400000</td>\n",
       "      <td>968.000000</td>\n",
       "      <td>779.500000</td>\n",
       "      <td>28.000000</td>\n",
       "      <td>34.445000</td>\n",
       "    </tr>\n",
       "    <tr>\n",
       "      <th>75%</th>\n",
       "      <td>350.000000</td>\n",
       "      <td>142.950000</td>\n",
       "      <td>118.300000</td>\n",
       "      <td>192.000000</td>\n",
       "      <td>10.200000</td>\n",
       "      <td>1029.400000</td>\n",
       "      <td>824.000000</td>\n",
       "      <td>56.000000</td>\n",
       "      <td>46.135000</td>\n",
       "    </tr>\n",
       "    <tr>\n",
       "      <th>max</th>\n",
       "      <td>540.000000</td>\n",
       "      <td>359.400000</td>\n",
       "      <td>200.100000</td>\n",
       "      <td>247.000000</td>\n",
       "      <td>32.200000</td>\n",
       "      <td>1145.000000</td>\n",
       "      <td>992.600000</td>\n",
       "      <td>365.000000</td>\n",
       "      <td>82.600000</td>\n",
       "    </tr>\n",
       "  </tbody>\n",
       "</table>\n",
       "</div>"
      ],
      "text/plain": [
       "            Cement  Blast Furnace Slag      Fly Ash        Water  \\\n",
       "count  1030.000000         1030.000000  1030.000000  1030.000000   \n",
       "mean    281.167864           73.895825    54.188350   181.567282   \n",
       "std     104.506364           86.279342    63.997004    21.354219   \n",
       "min     102.000000            0.000000     0.000000   121.800000   \n",
       "25%     192.375000            0.000000     0.000000   164.900000   \n",
       "50%     272.900000           22.000000     0.000000   185.000000   \n",
       "75%     350.000000          142.950000   118.300000   192.000000   \n",
       "max     540.000000          359.400000   200.100000   247.000000   \n",
       "\n",
       "       Superplasticizer  Coarse Aggregate  Fine Aggregate          Age  \\\n",
       "count       1030.000000       1030.000000     1030.000000  1030.000000   \n",
       "mean           6.204660        972.918932      773.580485    45.662136   \n",
       "std            5.973841         77.753954       80.175980    63.169912   \n",
       "min            0.000000        801.000000      594.000000     1.000000   \n",
       "25%            0.000000        932.000000      730.950000     7.000000   \n",
       "50%            6.400000        968.000000      779.500000    28.000000   \n",
       "75%           10.200000       1029.400000      824.000000    56.000000   \n",
       "max           32.200000       1145.000000      992.600000   365.000000   \n",
       "\n",
       "          Strength  \n",
       "count  1030.000000  \n",
       "mean     35.817961  \n",
       "std      16.705742  \n",
       "min       2.330000  \n",
       "25%      23.710000  \n",
       "50%      34.445000  \n",
       "75%      46.135000  \n",
       "max      82.600000  "
      ]
     },
     "execution_count": 4,
     "metadata": {},
     "output_type": "execute_result"
    }
   ],
   "source": [
    "concrete_data.describe()"
   ]
  },
  {
   "cell_type": "code",
   "execution_count": 5,
   "metadata": {},
   "outputs": [
    {
     "data": {
      "text/plain": [
       "Cement                0\n",
       "Blast Furnace Slag    0\n",
       "Fly Ash               0\n",
       "Water                 0\n",
       "Superplasticizer      0\n",
       "Coarse Aggregate      0\n",
       "Fine Aggregate        0\n",
       "Age                   0\n",
       "Strength              0\n",
       "dtype: int64"
      ]
     },
     "execution_count": 5,
     "metadata": {},
     "output_type": "execute_result"
    }
   ],
   "source": [
    "concrete_data.isnull().sum()"
   ]
  },
  {
   "cell_type": "markdown",
   "metadata": {},
   "source": [
    "### Split the data \n",
    "Step 1. Create the target and predictor sets"
   ]
  },
  {
   "cell_type": "code",
   "execution_count": 6,
   "metadata": {},
   "outputs": [],
   "source": [
    "concrete_data_columns = concrete_data.columns\n",
    "\n",
    "predictors = concrete_data[concrete_data_columns[concrete_data_columns != 'Strength']] # all columns except Strength\n",
    "target = concrete_data['Strength'] # Strength column"
   ]
  },
  {
   "cell_type": "code",
   "execution_count": 7,
   "metadata": {},
   "outputs": [
    {
     "data": {
      "text/html": [
       "<div>\n",
       "<style scoped>\n",
       "    .dataframe tbody tr th:only-of-type {\n",
       "        vertical-align: middle;\n",
       "    }\n",
       "\n",
       "    .dataframe tbody tr th {\n",
       "        vertical-align: top;\n",
       "    }\n",
       "\n",
       "    .dataframe thead th {\n",
       "        text-align: right;\n",
       "    }\n",
       "</style>\n",
       "<table border=\"1\" class=\"dataframe\">\n",
       "  <thead>\n",
       "    <tr style=\"text-align: right;\">\n",
       "      <th></th>\n",
       "      <th>Cement</th>\n",
       "      <th>Blast Furnace Slag</th>\n",
       "      <th>Fly Ash</th>\n",
       "      <th>Water</th>\n",
       "      <th>Superplasticizer</th>\n",
       "      <th>Coarse Aggregate</th>\n",
       "      <th>Fine Aggregate</th>\n",
       "      <th>Age</th>\n",
       "    </tr>\n",
       "  </thead>\n",
       "  <tbody>\n",
       "    <tr>\n",
       "      <th>0</th>\n",
       "      <td>540.0</td>\n",
       "      <td>0.0</td>\n",
       "      <td>0.0</td>\n",
       "      <td>162.0</td>\n",
       "      <td>2.5</td>\n",
       "      <td>1040.0</td>\n",
       "      <td>676.0</td>\n",
       "      <td>28</td>\n",
       "    </tr>\n",
       "    <tr>\n",
       "      <th>1</th>\n",
       "      <td>540.0</td>\n",
       "      <td>0.0</td>\n",
       "      <td>0.0</td>\n",
       "      <td>162.0</td>\n",
       "      <td>2.5</td>\n",
       "      <td>1055.0</td>\n",
       "      <td>676.0</td>\n",
       "      <td>28</td>\n",
       "    </tr>\n",
       "    <tr>\n",
       "      <th>2</th>\n",
       "      <td>332.5</td>\n",
       "      <td>142.5</td>\n",
       "      <td>0.0</td>\n",
       "      <td>228.0</td>\n",
       "      <td>0.0</td>\n",
       "      <td>932.0</td>\n",
       "      <td>594.0</td>\n",
       "      <td>270</td>\n",
       "    </tr>\n",
       "    <tr>\n",
       "      <th>3</th>\n",
       "      <td>332.5</td>\n",
       "      <td>142.5</td>\n",
       "      <td>0.0</td>\n",
       "      <td>228.0</td>\n",
       "      <td>0.0</td>\n",
       "      <td>932.0</td>\n",
       "      <td>594.0</td>\n",
       "      <td>365</td>\n",
       "    </tr>\n",
       "    <tr>\n",
       "      <th>4</th>\n",
       "      <td>198.6</td>\n",
       "      <td>132.4</td>\n",
       "      <td>0.0</td>\n",
       "      <td>192.0</td>\n",
       "      <td>0.0</td>\n",
       "      <td>978.4</td>\n",
       "      <td>825.5</td>\n",
       "      <td>360</td>\n",
       "    </tr>\n",
       "  </tbody>\n",
       "</table>\n",
       "</div>"
      ],
      "text/plain": [
       "   Cement  Blast Furnace Slag  Fly Ash  Water  Superplasticizer  \\\n",
       "0   540.0                 0.0      0.0  162.0               2.5   \n",
       "1   540.0                 0.0      0.0  162.0               2.5   \n",
       "2   332.5               142.5      0.0  228.0               0.0   \n",
       "3   332.5               142.5      0.0  228.0               0.0   \n",
       "4   198.6               132.4      0.0  192.0               0.0   \n",
       "\n",
       "   Coarse Aggregate  Fine Aggregate  Age  \n",
       "0            1040.0           676.0   28  \n",
       "1            1055.0           676.0   28  \n",
       "2             932.0           594.0  270  \n",
       "3             932.0           594.0  365  \n",
       "4             978.4           825.5  360  "
      ]
     },
     "execution_count": 7,
     "metadata": {},
     "output_type": "execute_result"
    }
   ],
   "source": [
    "predictors.head()"
   ]
  },
  {
   "cell_type": "code",
   "execution_count": 8,
   "metadata": {},
   "outputs": [
    {
     "data": {
      "text/plain": [
       "0    79.99\n",
       "1    61.89\n",
       "2    40.27\n",
       "3    41.05\n",
       "4    44.30\n",
       "Name: Strength, dtype: float64"
      ]
     },
     "execution_count": 8,
     "metadata": {},
     "output_type": "execute_result"
    }
   ],
   "source": [
    "target.head()"
   ]
  },
  {
   "cell_type": "code",
   "execution_count": 9,
   "metadata": {},
   "outputs": [
    {
     "data": {
      "text/html": [
       "<div>\n",
       "<style scoped>\n",
       "    .dataframe tbody tr th:only-of-type {\n",
       "        vertical-align: middle;\n",
       "    }\n",
       "\n",
       "    .dataframe tbody tr th {\n",
       "        vertical-align: top;\n",
       "    }\n",
       "\n",
       "    .dataframe thead th {\n",
       "        text-align: right;\n",
       "    }\n",
       "</style>\n",
       "<table border=\"1\" class=\"dataframe\">\n",
       "  <thead>\n",
       "    <tr style=\"text-align: right;\">\n",
       "      <th></th>\n",
       "      <th>Cement</th>\n",
       "      <th>Blast Furnace Slag</th>\n",
       "      <th>Fly Ash</th>\n",
       "      <th>Water</th>\n",
       "      <th>Superplasticizer</th>\n",
       "      <th>Coarse Aggregate</th>\n",
       "      <th>Fine Aggregate</th>\n",
       "      <th>Age</th>\n",
       "    </tr>\n",
       "  </thead>\n",
       "  <tbody>\n",
       "    <tr>\n",
       "      <th>0</th>\n",
       "      <td>2.476712</td>\n",
       "      <td>-0.856472</td>\n",
       "      <td>-0.846733</td>\n",
       "      <td>-0.916319</td>\n",
       "      <td>-0.620147</td>\n",
       "      <td>0.862735</td>\n",
       "      <td>-1.217079</td>\n",
       "      <td>-0.279597</td>\n",
       "    </tr>\n",
       "    <tr>\n",
       "      <th>1</th>\n",
       "      <td>2.476712</td>\n",
       "      <td>-0.856472</td>\n",
       "      <td>-0.846733</td>\n",
       "      <td>-0.916319</td>\n",
       "      <td>-0.620147</td>\n",
       "      <td>1.055651</td>\n",
       "      <td>-1.217079</td>\n",
       "      <td>-0.279597</td>\n",
       "    </tr>\n",
       "    <tr>\n",
       "      <th>2</th>\n",
       "      <td>0.491187</td>\n",
       "      <td>0.795140</td>\n",
       "      <td>-0.846733</td>\n",
       "      <td>2.174405</td>\n",
       "      <td>-1.038638</td>\n",
       "      <td>-0.526262</td>\n",
       "      <td>-2.239829</td>\n",
       "      <td>3.551340</td>\n",
       "    </tr>\n",
       "    <tr>\n",
       "      <th>3</th>\n",
       "      <td>0.491187</td>\n",
       "      <td>0.795140</td>\n",
       "      <td>-0.846733</td>\n",
       "      <td>2.174405</td>\n",
       "      <td>-1.038638</td>\n",
       "      <td>-0.526262</td>\n",
       "      <td>-2.239829</td>\n",
       "      <td>5.055221</td>\n",
       "    </tr>\n",
       "    <tr>\n",
       "      <th>4</th>\n",
       "      <td>-0.790075</td>\n",
       "      <td>0.678079</td>\n",
       "      <td>-0.846733</td>\n",
       "      <td>0.488555</td>\n",
       "      <td>-1.038638</td>\n",
       "      <td>0.070492</td>\n",
       "      <td>0.647569</td>\n",
       "      <td>4.976069</td>\n",
       "    </tr>\n",
       "  </tbody>\n",
       "</table>\n",
       "</div>"
      ],
      "text/plain": [
       "     Cement  Blast Furnace Slag   Fly Ash     Water  Superplasticizer  \\\n",
       "0  2.476712           -0.856472 -0.846733 -0.916319         -0.620147   \n",
       "1  2.476712           -0.856472 -0.846733 -0.916319         -0.620147   \n",
       "2  0.491187            0.795140 -0.846733  2.174405         -1.038638   \n",
       "3  0.491187            0.795140 -0.846733  2.174405         -1.038638   \n",
       "4 -0.790075            0.678079 -0.846733  0.488555         -1.038638   \n",
       "\n",
       "   Coarse Aggregate  Fine Aggregate       Age  \n",
       "0          0.862735       -1.217079 -0.279597  \n",
       "1          1.055651       -1.217079 -0.279597  \n",
       "2         -0.526262       -2.239829  3.551340  \n",
       "3         -0.526262       -2.239829  5.055221  \n",
       "4          0.070492        0.647569  4.976069  "
      ]
     },
     "execution_count": 9,
     "metadata": {},
     "output_type": "execute_result"
    }
   ],
   "source": [
    "predictors_norm = (predictors - predictors.mean()) / predictors.std()\n",
    "predictors_norm.head()"
   ]
  },
  {
   "cell_type": "code",
   "execution_count": 10,
   "metadata": {},
   "outputs": [
    {
     "data": {
      "text/plain": [
       "8"
      ]
     },
     "execution_count": 10,
     "metadata": {},
     "output_type": "execute_result"
    }
   ],
   "source": [
    "n_cols_norm = predictors_norm.shape[1] # number of predictors\n",
    "n_cols_norm"
   ]
  },
  {
   "cell_type": "markdown",
   "metadata": {},
   "source": [
    "Step 2. Using sklearn.model_selection, split the data into training and test sets"
   ]
  },
  {
   "cell_type": "code",
   "execution_count": 11,
   "metadata": {},
   "outputs": [],
   "source": [
    "from sklearn.model_selection import train_test_split\n",
    "\n",
    "X_train_norm, X_test_norm, y_train_norm, y_test_norm = train_test_split(predictors_norm, target, test_size=0.3, random_state=101)"
   ]
  },
  {
   "cell_type": "markdown",
   "metadata": {},
   "source": [
    "### Build the model"
   ]
  },
  {
   "cell_type": "code",
   "execution_count": 12,
   "metadata": {},
   "outputs": [],
   "source": [
    "# Importing keras directly didn't work, so I had to do it in a different way.\n",
    "# Check out the following link:\n",
    "# https://www.tensorflow.org/guide/keras/sequential_model\n",
    "from tensorflow import keras\n",
    "from tensorflow.keras.models import Sequential\n",
    "from tensorflow.keras.layers import Dense\n",
    "\n",
    "# define regression model\n",
    "def regression_model_hidden():\n",
    "    # create model\n",
    "    model = Sequential()\n",
    "    model.add(Dense(10, activation='relu', input_shape=(n_cols_norm,)))\n",
    "    model.add(Dense(10, activation='relu'))\n",
    "    model.add(Dense(10, activation='relu'))\n",
    "    model.add(Dense(1))\n",
    "    \n",
    "    # compile model\n",
    "    model.compile(optimizer='adam', loss='mean_squared_error')\n",
    "    return model"
   ]
  },
  {
   "cell_type": "markdown",
   "metadata": {},
   "source": [
    "### Train the model"
   ]
  },
  {
   "cell_type": "code",
   "execution_count": 13,
   "metadata": {},
   "outputs": [
    {
     "name": "stdout",
     "output_type": "stream",
     "text": [
      "Epoch 1/50\n",
      "23/23 [==============================] - 2s 10ms/step - loss: 1512.0197\n",
      "Epoch 2/50\n",
      "23/23 [==============================] - 0s 8ms/step - loss: 1440.9970\n",
      "Epoch 3/50\n",
      "23/23 [==============================] - 0s 11ms/step - loss: 1505.6118\n",
      "Epoch 4/50\n",
      "23/23 [==============================] - 0s 10ms/step - loss: 1439.8868\n",
      "Epoch 5/50\n",
      "23/23 [==============================] - 0s 11ms/step - loss: 1369.4596\n",
      "Epoch 6/50\n",
      "23/23 [==============================] - 0s 8ms/step - loss: 1314.3658\n",
      "Epoch 7/50\n",
      "23/23 [==============================] - 0s 9ms/step - loss: 1205.6919\n",
      "Epoch 8/50\n",
      "23/23 [==============================] - 0s 9ms/step - loss: 1025.2050\n",
      "Epoch 9/50\n",
      "23/23 [==============================] - 0s 9ms/step - loss: 830.4541\n",
      "Epoch 10/50\n",
      "23/23 [==============================] - 0s 8ms/step - loss: 672.4347\n",
      "Epoch 11/50\n",
      "23/23 [==============================] - 0s 7ms/step - loss: 444.7205\n",
      "Epoch 12/50\n",
      "23/23 [==============================] - 0s 8ms/step - loss: 301.0672\n",
      "Epoch 13/50\n",
      "23/23 [==============================] - 0s 7ms/step - loss: 237.1047\n",
      "Epoch 14/50\n",
      "23/23 [==============================] - ETA: 0s - loss: 222.920 - 0s 9ms/step - loss: 221.6191\n",
      "Epoch 15/50\n",
      "23/23 [==============================] - 0s 11ms/step - loss: 219.3290: 0s - loss: 242.\n",
      "Epoch 16/50\n",
      "23/23 [==============================] - 0s 10ms/step - loss: 188.7480\n",
      "Epoch 17/50\n",
      "23/23 [==============================] - 0s 10ms/step - loss: 189.8312\n",
      "Epoch 18/50\n",
      "23/23 [==============================] - 0s 10ms/step - loss: 184.7545\n",
      "Epoch 19/50\n",
      "23/23 [==============================] - 0s 10ms/step - loss: 162.4556\n",
      "Epoch 20/50\n",
      "23/23 [==============================] - 0s 10ms/step - loss: 184.1040\n",
      "Epoch 21/50\n",
      "23/23 [==============================] - 0s 10ms/step - loss: 170.4741\n",
      "Epoch 22/50\n",
      "23/23 [==============================] - 0s 11ms/step - loss: 171.3382\n",
      "Epoch 23/50\n",
      "23/23 [==============================] - 0s 10ms/step - loss: 157.8136\n",
      "Epoch 24/50\n",
      "23/23 [==============================] - 0s 10ms/step - loss: 155.9118\n",
      "Epoch 25/50\n",
      "23/23 [==============================] - 0s 12ms/step - loss: 152.0315\n",
      "Epoch 26/50\n",
      "23/23 [==============================] - 0s 12ms/step - loss: 160.4902\n",
      "Epoch 27/50\n",
      "23/23 [==============================] - 0s 8ms/step - loss: 159.8928\n",
      "Epoch 28/50\n",
      "23/23 [==============================] - 0s 7ms/step - loss: 153.3891\n",
      "Epoch 29/50\n",
      "23/23 [==============================] - 0s 7ms/step - loss: 156.1438\n",
      "Epoch 30/50\n",
      "23/23 [==============================] - 0s 9ms/step - loss: 149.4063\n",
      "Epoch 31/50\n",
      "23/23 [==============================] - 0s 9ms/step - loss: 149.1917\n",
      "Epoch 32/50\n",
      "23/23 [==============================] - 0s 10ms/step - loss: 138.1317\n",
      "Epoch 33/50\n",
      "23/23 [==============================] - 0s 9ms/step - loss: 152.1808\n",
      "Epoch 34/50\n",
      "23/23 [==============================] - 0s 12ms/step - loss: 141.4059\n",
      "Epoch 35/50\n",
      "23/23 [==============================] - 0s 10ms/step - loss: 137.4755\n",
      "Epoch 36/50\n",
      "23/23 [==============================] - 0s 12ms/step - loss: 134.0367\n",
      "Epoch 37/50\n",
      "23/23 [==============================] - 0s 7ms/step - loss: 143.3061\n",
      "Epoch 38/50\n",
      "23/23 [==============================] - 0s 9ms/step - loss: 139.3393\n",
      "Epoch 39/50\n",
      "23/23 [==============================] - ETA: 0s - loss: 144.918 - 0s 12ms/step - loss: 144.1838\n",
      "Epoch 40/50\n",
      "23/23 [==============================] - 0s 10ms/step - loss: 135.5300\n",
      "Epoch 41/50\n",
      "23/23 [==============================] - 0s 8ms/step - loss: 135.8923\n",
      "Epoch 42/50\n",
      "23/23 [==============================] - 0s 8ms/step - loss: 127.8369\n",
      "Epoch 43/50\n",
      "23/23 [==============================] - 0s 9ms/step - loss: 131.4948\n",
      "Epoch 44/50\n",
      "23/23 [==============================] - 0s 7ms/step - loss: 130.9601\n",
      "Epoch 45/50\n",
      "23/23 [==============================] - 0s 7ms/step - loss: 126.1829\n",
      "Epoch 46/50\n",
      "23/23 [==============================] - 0s 7ms/step - loss: 129.5002\n",
      "Epoch 47/50\n",
      "23/23 [==============================] - 0s 7ms/step - loss: 128.1654\n",
      "Epoch 48/50\n",
      "23/23 [==============================] - 0s 8ms/step - loss: 123.9509\n",
      "Epoch 49/50\n",
      "23/23 [==============================] - 0s 8ms/step - loss: 130.5726\n",
      "Epoch 50/50\n",
      "23/23 [==============================] - 0s 7ms/step - loss: 119.4143\n"
     ]
    },
    {
     "data": {
      "text/plain": [
       "<tensorflow.python.keras.callbacks.History at 0x7f4f2c3dc790>"
      ]
     },
     "execution_count": 13,
     "metadata": {},
     "output_type": "execute_result"
    }
   ],
   "source": [
    "model_hidden = regression_model_hidden()\n",
    "# fit the model\n",
    "model_hidden.fit(X_train_norm, y_train_norm, epochs=50, verbose=1)"
   ]
  },
  {
   "cell_type": "markdown",
   "metadata": {},
   "source": [
    "### Evaluate the model"
   ]
  },
  {
   "cell_type": "code",
   "execution_count": 14,
   "metadata": {},
   "outputs": [
    {
     "name": "stdout",
     "output_type": "stream",
     "text": [
      "test value: 150.89129638671875\n"
     ]
    }
   ],
   "source": [
    "test_value = model_hidden.evaluate(X_test_norm, y_test_norm, verbose=0)\n",
    "y_pred = model_hidden.predict(X_test_norm)\n",
    "print(\"test value: \" + str(test_value))"
   ]
  },
  {
   "cell_type": "code",
   "execution_count": 15,
   "metadata": {},
   "outputs": [
    {
     "name": "stdout",
     "output_type": "stream",
     "text": [
      "mean: 150.89129150061248\n",
      "mean_square_error: 150.89129150061248\n",
      "standard_deviation: 0.0\n"
     ]
    }
   ],
   "source": [
    "from sklearn.metrics import mean_squared_error\n",
    "\n",
    "mean_square_error = mean_squared_error(y_test_norm, y_pred)\n",
    "mean = np.mean(mean_square_error)\n",
    "standard_deviation = np.std(mean_square_error)\n",
    "\n",
    "print(\"mean: \" + str(mean))\n",
    "print(\"mean_square_error: \" + str(mean_square_error))\n",
    "print(\"standard_deviation: \"+ str(standard_deviation))"
   ]
  },
  {
   "cell_type": "markdown",
   "metadata": {},
   "source": [
    "### Create a list of 50 mean squared errors"
   ]
  },
  {
   "cell_type": "code",
   "execution_count": 16,
   "metadata": {},
   "outputs": [
    {
     "name": "stdout",
     "output_type": "stream",
     "text": [
      "Mean Square Error #1: 97.9536818170841\n",
      "Mean Square Error #2: 72.16408471553761\n",
      "Mean Square Error #3: 57.94955554044319\n",
      "Mean Square Error #4: 52.2010380617282\n",
      "Mean Square Error #5: 50.305348549956285\n",
      "Mean Square Error #6: 47.77953486046957\n",
      "Mean Square Error #7: 46.34932784762005\n",
      "Mean Square Error #8: 45.38741489199468\n",
      "Mean Square Error #9: 42.41272208265789\n",
      "Mean Square Error #10: 41.17377664646306\n",
      "Mean Square Error #11: 40.037555659045594\n",
      "Mean Square Error #12: 38.703231877484136\n",
      "Mean Square Error #13: 36.49139546026416\n",
      "Mean Square Error #14: 35.79396509536134\n",
      "Mean Square Error #15: 35.995932719046365\n",
      "Mean Square Error #16: 34.99619042152367\n",
      "Mean Square Error #17: 34.04440167364279\n",
      "Mean Square Error #18: 34.33496202312563\n",
      "Mean Square Error #19: 33.708399688952355\n",
      "Mean Square Error #20: 33.87563632632625\n",
      "Mean Square Error #21: 32.05971719190791\n",
      "Mean Square Error #22: 32.46312440001733\n",
      "Mean Square Error #23: 33.60982719935354\n",
      "Mean Square Error #24: 32.567493164007026\n",
      "Mean Square Error #25: 33.2828925135313\n",
      "Mean Square Error #26: 32.98360819794069\n",
      "Mean Square Error #27: 32.714551796337105\n",
      "Mean Square Error #28: 33.54774788764217\n",
      "Mean Square Error #29: 33.45007983026127\n",
      "Mean Square Error #30: 33.5437547939897\n",
      "Mean Square Error #31: 33.62437551787704\n",
      "Mean Square Error #32: 33.44617740030759\n",
      "Mean Square Error #33: 34.78742770386193\n",
      "Mean Square Error #34: 35.04771028368297\n",
      "Mean Square Error #35: 34.40353063730978\n",
      "Mean Square Error #36: 33.90675580044719\n",
      "Mean Square Error #37: 33.997568628870866\n",
      "Mean Square Error #38: 33.47615172736729\n",
      "Mean Square Error #39: 34.47281392974216\n",
      "Mean Square Error #40: 33.737190631116015\n",
      "Mean Square Error #41: 34.49449624099061\n",
      "Mean Square Error #42: 33.944468166820855\n",
      "Mean Square Error #43: 33.78928746128815\n",
      "Mean Square Error #44: 34.708628980435144\n",
      "Mean Square Error #45: 33.73022249827011\n",
      "Mean Square Error #46: 34.13071701439416\n",
      "Mean Square Error #47: 33.79797845757839\n",
      "Mean Square Error #48: 33.875132312152395\n",
      "Mean Square Error #49: 34.25570989184538\n",
      "Mean Square Error #50: 34.69995661840398\n"
     ]
    }
   ],
   "source": [
    "total_mean_squared_errors_hidden = 50\n",
    "epochs_hidden = 50\n",
    "mean_squared_errors_hidden = []\n",
    "for i in range(total_mean_squared_errors_hidden):\n",
    "    X_train_norm, X_test_norm, y_train_norm, y_test_norm = train_test_split(predictors_norm, target, test_size=0.3, random_state=101)\n",
    "    model_hidden.fit(X_train_norm, y_train_norm, epochs=epochs_hidden, verbose=0)\n",
    "    y_pred_norm = model_hidden.predict(X_test_norm)\n",
    "    mean_square_error_hidden = mean_squared_error(y_test_norm, y_pred_norm)\n",
    "    print(\"Mean Square Error #\" + str(i + 1) + \": \" + str(mean_square_error_hidden))\n",
    "    \n",
    "    mean_squared_errors_hidden.append(mean_square_error_hidden)"
   ]
  },
  {
   "cell_type": "markdown",
   "metadata": {},
   "source": [
    "### Mean and Standard Deviation"
   ]
  },
  {
   "cell_type": "code",
   "execution_count": 17,
   "metadata": {},
   "outputs": [
    {
     "name": "stdout",
     "output_type": "stream",
     "text": [
      "epochs per training: 50\n",
      "Mean: 38.484145056729545\n",
      "Standard Deviation: 11.310209803506595\n"
     ]
    }
   ],
   "source": [
    "mean_squared_errors_hidden = np.array(mean_squared_errors_hidden)\n",
    "mean_hidden = np.mean(mean_squared_errors_hidden)\n",
    "standard_deviation_hidden = np.std(mean_squared_errors_hidden)\n",
    "\n",
    "print(\"epochs per training: \" + str(epochs_hidden))\n",
    "print(\"Mean: \" + str(mean_hidden))\n",
    "print(\"Standard Deviation: \"+str(standard_deviation_hidden))"
   ]
  },
  {
   "cell_type": "markdown",
   "metadata": {},
   "source": [
    "### Discussion\n",
    "Increasing the number of layers will increase the training time. The training time in Part D increased when compared to Part B."
   ]
  },
  {
   "cell_type": "markdown",
   "metadata": {},
   "source": [
    "### References\n",
    "- [The Sequential model](https://www.tensorflow.org/guide/keras/sequential_model)\n",
    "- [Splitting Datasets With the Sklearn train_test_split Function](https://www.bitdegree.org/learn/train-test-split)\n",
    "- [Why random_state in train_test_split is equal 42](https://www.researchgate.net/post/Why_random_state_in_train_test_split_is_equal_42)\n",
    "- [Python | Mean Squared Error](https://www.geeksforgeeks.org/python-mean-squared-error/)"
   ]
  }
 ],
 "metadata": {
  "kernelspec": {
   "display_name": "Python 3.8",
   "language": "python",
   "name": "python3"
  },
  "language_info": {
   "codemirror_mode": {
    "name": "ipython",
    "version": 3
   },
   "file_extension": ".py",
   "mimetype": "text/x-python",
   "name": "python",
   "nbconvert_exporter": "python",
   "pygments_lexer": "ipython3",
   "version": "3.8.12"
  }
 },
 "nbformat": 4,
 "nbformat_minor": 1
}
