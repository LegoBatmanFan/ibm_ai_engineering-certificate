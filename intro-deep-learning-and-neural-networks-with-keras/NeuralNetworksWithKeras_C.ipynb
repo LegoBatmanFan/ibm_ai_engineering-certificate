{
 "cells": [
  {
   "cell_type": "markdown",
   "metadata": {},
   "source": [
    "# Introduction to Deep Learning & Neural Networks with Keras Course Project\n",
    "created by Lena Horsley\n",
    "\n",
    "In this course project, you will build a regression model using the deep learning Keras library, and then you will experiment with increasing the number of training epochs and changing number of hidden layers and you will see how changing these parameters impacts the performance of the model."
   ]
  },
  {
   "cell_type": "markdown",
   "metadata": {},
   "source": [
    "### Part C. Increase the number of epochs \n",
    "\n",
    "Repeat Part B but use 100 epochs this time for training."
   ]
  },
  {
   "cell_type": "code",
   "execution_count": 1,
   "metadata": {},
   "outputs": [],
   "source": [
    "import pandas as pd\n",
    "import numpy as np"
   ]
  },
  {
   "cell_type": "markdown",
   "metadata": {},
   "source": [
    "### Let's look at the data"
   ]
  },
  {
   "cell_type": "code",
   "execution_count": 2,
   "metadata": {},
   "outputs": [
    {
     "data": {
      "text/html": [
       "<div>\n",
       "<style scoped>\n",
       "    .dataframe tbody tr th:only-of-type {\n",
       "        vertical-align: middle;\n",
       "    }\n",
       "\n",
       "    .dataframe tbody tr th {\n",
       "        vertical-align: top;\n",
       "    }\n",
       "\n",
       "    .dataframe thead th {\n",
       "        text-align: right;\n",
       "    }\n",
       "</style>\n",
       "<table border=\"1\" class=\"dataframe\">\n",
       "  <thead>\n",
       "    <tr style=\"text-align: right;\">\n",
       "      <th></th>\n",
       "      <th>Cement</th>\n",
       "      <th>Blast Furnace Slag</th>\n",
       "      <th>Fly Ash</th>\n",
       "      <th>Water</th>\n",
       "      <th>Superplasticizer</th>\n",
       "      <th>Coarse Aggregate</th>\n",
       "      <th>Fine Aggregate</th>\n",
       "      <th>Age</th>\n",
       "      <th>Strength</th>\n",
       "    </tr>\n",
       "  </thead>\n",
       "  <tbody>\n",
       "    <tr>\n",
       "      <th>0</th>\n",
       "      <td>540.0</td>\n",
       "      <td>0.0</td>\n",
       "      <td>0.0</td>\n",
       "      <td>162.0</td>\n",
       "      <td>2.5</td>\n",
       "      <td>1040.0</td>\n",
       "      <td>676.0</td>\n",
       "      <td>28</td>\n",
       "      <td>79.99</td>\n",
       "    </tr>\n",
       "    <tr>\n",
       "      <th>1</th>\n",
       "      <td>540.0</td>\n",
       "      <td>0.0</td>\n",
       "      <td>0.0</td>\n",
       "      <td>162.0</td>\n",
       "      <td>2.5</td>\n",
       "      <td>1055.0</td>\n",
       "      <td>676.0</td>\n",
       "      <td>28</td>\n",
       "      <td>61.89</td>\n",
       "    </tr>\n",
       "    <tr>\n",
       "      <th>2</th>\n",
       "      <td>332.5</td>\n",
       "      <td>142.5</td>\n",
       "      <td>0.0</td>\n",
       "      <td>228.0</td>\n",
       "      <td>0.0</td>\n",
       "      <td>932.0</td>\n",
       "      <td>594.0</td>\n",
       "      <td>270</td>\n",
       "      <td>40.27</td>\n",
       "    </tr>\n",
       "    <tr>\n",
       "      <th>3</th>\n",
       "      <td>332.5</td>\n",
       "      <td>142.5</td>\n",
       "      <td>0.0</td>\n",
       "      <td>228.0</td>\n",
       "      <td>0.0</td>\n",
       "      <td>932.0</td>\n",
       "      <td>594.0</td>\n",
       "      <td>365</td>\n",
       "      <td>41.05</td>\n",
       "    </tr>\n",
       "    <tr>\n",
       "      <th>4</th>\n",
       "      <td>198.6</td>\n",
       "      <td>132.4</td>\n",
       "      <td>0.0</td>\n",
       "      <td>192.0</td>\n",
       "      <td>0.0</td>\n",
       "      <td>978.4</td>\n",
       "      <td>825.5</td>\n",
       "      <td>360</td>\n",
       "      <td>44.30</td>\n",
       "    </tr>\n",
       "  </tbody>\n",
       "</table>\n",
       "</div>"
      ],
      "text/plain": [
       "   Cement  Blast Furnace Slag  Fly Ash  Water  Superplasticizer  \\\n",
       "0   540.0                 0.0      0.0  162.0               2.5   \n",
       "1   540.0                 0.0      0.0  162.0               2.5   \n",
       "2   332.5               142.5      0.0  228.0               0.0   \n",
       "3   332.5               142.5      0.0  228.0               0.0   \n",
       "4   198.6               132.4      0.0  192.0               0.0   \n",
       "\n",
       "   Coarse Aggregate  Fine Aggregate  Age  Strength  \n",
       "0            1040.0           676.0   28     79.99  \n",
       "1            1055.0           676.0   28     61.89  \n",
       "2             932.0           594.0  270     40.27  \n",
       "3             932.0           594.0  365     41.05  \n",
       "4             978.4           825.5  360     44.30  "
      ]
     },
     "execution_count": 2,
     "metadata": {},
     "output_type": "execute_result"
    }
   ],
   "source": [
    "concrete_data = pd.read_csv('https://cocl.us/concrete_data')\n",
    "concrete_data.head()"
   ]
  },
  {
   "cell_type": "code",
   "execution_count": 3,
   "metadata": {},
   "outputs": [
    {
     "data": {
      "text/plain": [
       "(1030, 9)"
      ]
     },
     "execution_count": 3,
     "metadata": {},
     "output_type": "execute_result"
    }
   ],
   "source": [
    "concrete_data.shape"
   ]
  },
  {
   "cell_type": "code",
   "execution_count": 4,
   "metadata": {},
   "outputs": [
    {
     "data": {
      "text/html": [
       "<div>\n",
       "<style scoped>\n",
       "    .dataframe tbody tr th:only-of-type {\n",
       "        vertical-align: middle;\n",
       "    }\n",
       "\n",
       "    .dataframe tbody tr th {\n",
       "        vertical-align: top;\n",
       "    }\n",
       "\n",
       "    .dataframe thead th {\n",
       "        text-align: right;\n",
       "    }\n",
       "</style>\n",
       "<table border=\"1\" class=\"dataframe\">\n",
       "  <thead>\n",
       "    <tr style=\"text-align: right;\">\n",
       "      <th></th>\n",
       "      <th>Cement</th>\n",
       "      <th>Blast Furnace Slag</th>\n",
       "      <th>Fly Ash</th>\n",
       "      <th>Water</th>\n",
       "      <th>Superplasticizer</th>\n",
       "      <th>Coarse Aggregate</th>\n",
       "      <th>Fine Aggregate</th>\n",
       "      <th>Age</th>\n",
       "      <th>Strength</th>\n",
       "    </tr>\n",
       "  </thead>\n",
       "  <tbody>\n",
       "    <tr>\n",
       "      <th>count</th>\n",
       "      <td>1030.000000</td>\n",
       "      <td>1030.000000</td>\n",
       "      <td>1030.000000</td>\n",
       "      <td>1030.000000</td>\n",
       "      <td>1030.000000</td>\n",
       "      <td>1030.000000</td>\n",
       "      <td>1030.000000</td>\n",
       "      <td>1030.000000</td>\n",
       "      <td>1030.000000</td>\n",
       "    </tr>\n",
       "    <tr>\n",
       "      <th>mean</th>\n",
       "      <td>281.167864</td>\n",
       "      <td>73.895825</td>\n",
       "      <td>54.188350</td>\n",
       "      <td>181.567282</td>\n",
       "      <td>6.204660</td>\n",
       "      <td>972.918932</td>\n",
       "      <td>773.580485</td>\n",
       "      <td>45.662136</td>\n",
       "      <td>35.817961</td>\n",
       "    </tr>\n",
       "    <tr>\n",
       "      <th>std</th>\n",
       "      <td>104.506364</td>\n",
       "      <td>86.279342</td>\n",
       "      <td>63.997004</td>\n",
       "      <td>21.354219</td>\n",
       "      <td>5.973841</td>\n",
       "      <td>77.753954</td>\n",
       "      <td>80.175980</td>\n",
       "      <td>63.169912</td>\n",
       "      <td>16.705742</td>\n",
       "    </tr>\n",
       "    <tr>\n",
       "      <th>min</th>\n",
       "      <td>102.000000</td>\n",
       "      <td>0.000000</td>\n",
       "      <td>0.000000</td>\n",
       "      <td>121.800000</td>\n",
       "      <td>0.000000</td>\n",
       "      <td>801.000000</td>\n",
       "      <td>594.000000</td>\n",
       "      <td>1.000000</td>\n",
       "      <td>2.330000</td>\n",
       "    </tr>\n",
       "    <tr>\n",
       "      <th>25%</th>\n",
       "      <td>192.375000</td>\n",
       "      <td>0.000000</td>\n",
       "      <td>0.000000</td>\n",
       "      <td>164.900000</td>\n",
       "      <td>0.000000</td>\n",
       "      <td>932.000000</td>\n",
       "      <td>730.950000</td>\n",
       "      <td>7.000000</td>\n",
       "      <td>23.710000</td>\n",
       "    </tr>\n",
       "    <tr>\n",
       "      <th>50%</th>\n",
       "      <td>272.900000</td>\n",
       "      <td>22.000000</td>\n",
       "      <td>0.000000</td>\n",
       "      <td>185.000000</td>\n",
       "      <td>6.400000</td>\n",
       "      <td>968.000000</td>\n",
       "      <td>779.500000</td>\n",
       "      <td>28.000000</td>\n",
       "      <td>34.445000</td>\n",
       "    </tr>\n",
       "    <tr>\n",
       "      <th>75%</th>\n",
       "      <td>350.000000</td>\n",
       "      <td>142.950000</td>\n",
       "      <td>118.300000</td>\n",
       "      <td>192.000000</td>\n",
       "      <td>10.200000</td>\n",
       "      <td>1029.400000</td>\n",
       "      <td>824.000000</td>\n",
       "      <td>56.000000</td>\n",
       "      <td>46.135000</td>\n",
       "    </tr>\n",
       "    <tr>\n",
       "      <th>max</th>\n",
       "      <td>540.000000</td>\n",
       "      <td>359.400000</td>\n",
       "      <td>200.100000</td>\n",
       "      <td>247.000000</td>\n",
       "      <td>32.200000</td>\n",
       "      <td>1145.000000</td>\n",
       "      <td>992.600000</td>\n",
       "      <td>365.000000</td>\n",
       "      <td>82.600000</td>\n",
       "    </tr>\n",
       "  </tbody>\n",
       "</table>\n",
       "</div>"
      ],
      "text/plain": [
       "            Cement  Blast Furnace Slag      Fly Ash        Water  \\\n",
       "count  1030.000000         1030.000000  1030.000000  1030.000000   \n",
       "mean    281.167864           73.895825    54.188350   181.567282   \n",
       "std     104.506364           86.279342    63.997004    21.354219   \n",
       "min     102.000000            0.000000     0.000000   121.800000   \n",
       "25%     192.375000            0.000000     0.000000   164.900000   \n",
       "50%     272.900000           22.000000     0.000000   185.000000   \n",
       "75%     350.000000          142.950000   118.300000   192.000000   \n",
       "max     540.000000          359.400000   200.100000   247.000000   \n",
       "\n",
       "       Superplasticizer  Coarse Aggregate  Fine Aggregate          Age  \\\n",
       "count       1030.000000       1030.000000     1030.000000  1030.000000   \n",
       "mean           6.204660        972.918932      773.580485    45.662136   \n",
       "std            5.973841         77.753954       80.175980    63.169912   \n",
       "min            0.000000        801.000000      594.000000     1.000000   \n",
       "25%            0.000000        932.000000      730.950000     7.000000   \n",
       "50%            6.400000        968.000000      779.500000    28.000000   \n",
       "75%           10.200000       1029.400000      824.000000    56.000000   \n",
       "max           32.200000       1145.000000      992.600000   365.000000   \n",
       "\n",
       "          Strength  \n",
       "count  1030.000000  \n",
       "mean     35.817961  \n",
       "std      16.705742  \n",
       "min       2.330000  \n",
       "25%      23.710000  \n",
       "50%      34.445000  \n",
       "75%      46.135000  \n",
       "max      82.600000  "
      ]
     },
     "execution_count": 4,
     "metadata": {},
     "output_type": "execute_result"
    }
   ],
   "source": [
    "concrete_data.describe()"
   ]
  },
  {
   "cell_type": "code",
   "execution_count": 5,
   "metadata": {},
   "outputs": [
    {
     "data": {
      "text/plain": [
       "Cement                0\n",
       "Blast Furnace Slag    0\n",
       "Fly Ash               0\n",
       "Water                 0\n",
       "Superplasticizer      0\n",
       "Coarse Aggregate      0\n",
       "Fine Aggregate        0\n",
       "Age                   0\n",
       "Strength              0\n",
       "dtype: int64"
      ]
     },
     "execution_count": 5,
     "metadata": {},
     "output_type": "execute_result"
    }
   ],
   "source": [
    "concrete_data.isnull().sum()"
   ]
  },
  {
   "cell_type": "markdown",
   "metadata": {},
   "source": [
    "### Split the data \n",
    "Step 1. Create the target and predictor sets"
   ]
  },
  {
   "cell_type": "code",
   "execution_count": 6,
   "metadata": {},
   "outputs": [],
   "source": [
    "concrete_data_columns = concrete_data.columns\n",
    "\n",
    "predictors = concrete_data[concrete_data_columns[concrete_data_columns != 'Strength']] # all columns except Strength\n",
    "target = concrete_data['Strength'] # Strength column"
   ]
  },
  {
   "cell_type": "code",
   "execution_count": 7,
   "metadata": {},
   "outputs": [
    {
     "data": {
      "text/html": [
       "<div>\n",
       "<style scoped>\n",
       "    .dataframe tbody tr th:only-of-type {\n",
       "        vertical-align: middle;\n",
       "    }\n",
       "\n",
       "    .dataframe tbody tr th {\n",
       "        vertical-align: top;\n",
       "    }\n",
       "\n",
       "    .dataframe thead th {\n",
       "        text-align: right;\n",
       "    }\n",
       "</style>\n",
       "<table border=\"1\" class=\"dataframe\">\n",
       "  <thead>\n",
       "    <tr style=\"text-align: right;\">\n",
       "      <th></th>\n",
       "      <th>Cement</th>\n",
       "      <th>Blast Furnace Slag</th>\n",
       "      <th>Fly Ash</th>\n",
       "      <th>Water</th>\n",
       "      <th>Superplasticizer</th>\n",
       "      <th>Coarse Aggregate</th>\n",
       "      <th>Fine Aggregate</th>\n",
       "      <th>Age</th>\n",
       "    </tr>\n",
       "  </thead>\n",
       "  <tbody>\n",
       "    <tr>\n",
       "      <th>0</th>\n",
       "      <td>540.0</td>\n",
       "      <td>0.0</td>\n",
       "      <td>0.0</td>\n",
       "      <td>162.0</td>\n",
       "      <td>2.5</td>\n",
       "      <td>1040.0</td>\n",
       "      <td>676.0</td>\n",
       "      <td>28</td>\n",
       "    </tr>\n",
       "    <tr>\n",
       "      <th>1</th>\n",
       "      <td>540.0</td>\n",
       "      <td>0.0</td>\n",
       "      <td>0.0</td>\n",
       "      <td>162.0</td>\n",
       "      <td>2.5</td>\n",
       "      <td>1055.0</td>\n",
       "      <td>676.0</td>\n",
       "      <td>28</td>\n",
       "    </tr>\n",
       "    <tr>\n",
       "      <th>2</th>\n",
       "      <td>332.5</td>\n",
       "      <td>142.5</td>\n",
       "      <td>0.0</td>\n",
       "      <td>228.0</td>\n",
       "      <td>0.0</td>\n",
       "      <td>932.0</td>\n",
       "      <td>594.0</td>\n",
       "      <td>270</td>\n",
       "    </tr>\n",
       "    <tr>\n",
       "      <th>3</th>\n",
       "      <td>332.5</td>\n",
       "      <td>142.5</td>\n",
       "      <td>0.0</td>\n",
       "      <td>228.0</td>\n",
       "      <td>0.0</td>\n",
       "      <td>932.0</td>\n",
       "      <td>594.0</td>\n",
       "      <td>365</td>\n",
       "    </tr>\n",
       "    <tr>\n",
       "      <th>4</th>\n",
       "      <td>198.6</td>\n",
       "      <td>132.4</td>\n",
       "      <td>0.0</td>\n",
       "      <td>192.0</td>\n",
       "      <td>0.0</td>\n",
       "      <td>978.4</td>\n",
       "      <td>825.5</td>\n",
       "      <td>360</td>\n",
       "    </tr>\n",
       "  </tbody>\n",
       "</table>\n",
       "</div>"
      ],
      "text/plain": [
       "   Cement  Blast Furnace Slag  Fly Ash  Water  Superplasticizer  \\\n",
       "0   540.0                 0.0      0.0  162.0               2.5   \n",
       "1   540.0                 0.0      0.0  162.0               2.5   \n",
       "2   332.5               142.5      0.0  228.0               0.0   \n",
       "3   332.5               142.5      0.0  228.0               0.0   \n",
       "4   198.6               132.4      0.0  192.0               0.0   \n",
       "\n",
       "   Coarse Aggregate  Fine Aggregate  Age  \n",
       "0            1040.0           676.0   28  \n",
       "1            1055.0           676.0   28  \n",
       "2             932.0           594.0  270  \n",
       "3             932.0           594.0  365  \n",
       "4             978.4           825.5  360  "
      ]
     },
     "execution_count": 7,
     "metadata": {},
     "output_type": "execute_result"
    }
   ],
   "source": [
    "predictors.head()"
   ]
  },
  {
   "cell_type": "code",
   "execution_count": 8,
   "metadata": {},
   "outputs": [
    {
     "data": {
      "text/plain": [
       "0    79.99\n",
       "1    61.89\n",
       "2    40.27\n",
       "3    41.05\n",
       "4    44.30\n",
       "Name: Strength, dtype: float64"
      ]
     },
     "execution_count": 8,
     "metadata": {},
     "output_type": "execute_result"
    }
   ],
   "source": [
    "target.head()"
   ]
  },
  {
   "cell_type": "code",
   "execution_count": 9,
   "metadata": {},
   "outputs": [
    {
     "data": {
      "text/html": [
       "<div>\n",
       "<style scoped>\n",
       "    .dataframe tbody tr th:only-of-type {\n",
       "        vertical-align: middle;\n",
       "    }\n",
       "\n",
       "    .dataframe tbody tr th {\n",
       "        vertical-align: top;\n",
       "    }\n",
       "\n",
       "    .dataframe thead th {\n",
       "        text-align: right;\n",
       "    }\n",
       "</style>\n",
       "<table border=\"1\" class=\"dataframe\">\n",
       "  <thead>\n",
       "    <tr style=\"text-align: right;\">\n",
       "      <th></th>\n",
       "      <th>Cement</th>\n",
       "      <th>Blast Furnace Slag</th>\n",
       "      <th>Fly Ash</th>\n",
       "      <th>Water</th>\n",
       "      <th>Superplasticizer</th>\n",
       "      <th>Coarse Aggregate</th>\n",
       "      <th>Fine Aggregate</th>\n",
       "      <th>Age</th>\n",
       "    </tr>\n",
       "  </thead>\n",
       "  <tbody>\n",
       "    <tr>\n",
       "      <th>0</th>\n",
       "      <td>2.476712</td>\n",
       "      <td>-0.856472</td>\n",
       "      <td>-0.846733</td>\n",
       "      <td>-0.916319</td>\n",
       "      <td>-0.620147</td>\n",
       "      <td>0.862735</td>\n",
       "      <td>-1.217079</td>\n",
       "      <td>-0.279597</td>\n",
       "    </tr>\n",
       "    <tr>\n",
       "      <th>1</th>\n",
       "      <td>2.476712</td>\n",
       "      <td>-0.856472</td>\n",
       "      <td>-0.846733</td>\n",
       "      <td>-0.916319</td>\n",
       "      <td>-0.620147</td>\n",
       "      <td>1.055651</td>\n",
       "      <td>-1.217079</td>\n",
       "      <td>-0.279597</td>\n",
       "    </tr>\n",
       "    <tr>\n",
       "      <th>2</th>\n",
       "      <td>0.491187</td>\n",
       "      <td>0.795140</td>\n",
       "      <td>-0.846733</td>\n",
       "      <td>2.174405</td>\n",
       "      <td>-1.038638</td>\n",
       "      <td>-0.526262</td>\n",
       "      <td>-2.239829</td>\n",
       "      <td>3.551340</td>\n",
       "    </tr>\n",
       "    <tr>\n",
       "      <th>3</th>\n",
       "      <td>0.491187</td>\n",
       "      <td>0.795140</td>\n",
       "      <td>-0.846733</td>\n",
       "      <td>2.174405</td>\n",
       "      <td>-1.038638</td>\n",
       "      <td>-0.526262</td>\n",
       "      <td>-2.239829</td>\n",
       "      <td>5.055221</td>\n",
       "    </tr>\n",
       "    <tr>\n",
       "      <th>4</th>\n",
       "      <td>-0.790075</td>\n",
       "      <td>0.678079</td>\n",
       "      <td>-0.846733</td>\n",
       "      <td>0.488555</td>\n",
       "      <td>-1.038638</td>\n",
       "      <td>0.070492</td>\n",
       "      <td>0.647569</td>\n",
       "      <td>4.976069</td>\n",
       "    </tr>\n",
       "  </tbody>\n",
       "</table>\n",
       "</div>"
      ],
      "text/plain": [
       "     Cement  Blast Furnace Slag   Fly Ash     Water  Superplasticizer  \\\n",
       "0  2.476712           -0.856472 -0.846733 -0.916319         -0.620147   \n",
       "1  2.476712           -0.856472 -0.846733 -0.916319         -0.620147   \n",
       "2  0.491187            0.795140 -0.846733  2.174405         -1.038638   \n",
       "3  0.491187            0.795140 -0.846733  2.174405         -1.038638   \n",
       "4 -0.790075            0.678079 -0.846733  0.488555         -1.038638   \n",
       "\n",
       "   Coarse Aggregate  Fine Aggregate       Age  \n",
       "0          0.862735       -1.217079 -0.279597  \n",
       "1          1.055651       -1.217079 -0.279597  \n",
       "2         -0.526262       -2.239829  3.551340  \n",
       "3         -0.526262       -2.239829  5.055221  \n",
       "4          0.070492        0.647569  4.976069  "
      ]
     },
     "execution_count": 9,
     "metadata": {},
     "output_type": "execute_result"
    }
   ],
   "source": [
    "predictors_norm = (predictors - predictors.mean()) / predictors.std()\n",
    "predictors_norm.head()"
   ]
  },
  {
   "cell_type": "code",
   "execution_count": 10,
   "metadata": {},
   "outputs": [
    {
     "data": {
      "text/plain": [
       "8"
      ]
     },
     "execution_count": 10,
     "metadata": {},
     "output_type": "execute_result"
    }
   ],
   "source": [
    "n_cols_norm = predictors_norm.shape[1] # number of predictors\n",
    "n_cols_norm"
   ]
  },
  {
   "cell_type": "markdown",
   "metadata": {},
   "source": [
    "Step 2. Using sklearn.model_selection, split the data into training and test sets"
   ]
  },
  {
   "cell_type": "code",
   "execution_count": 11,
   "metadata": {},
   "outputs": [],
   "source": [
    "from sklearn.model_selection import train_test_split\n",
    "\n",
    "X_train_norm, X_test_norm, y_train_norm, y_test_norm = train_test_split(predictors_norm, target, test_size=0.3, random_state=101)"
   ]
  },
  {
   "cell_type": "markdown",
   "metadata": {},
   "source": [
    "### Build the model"
   ]
  },
  {
   "cell_type": "code",
   "execution_count": 12,
   "metadata": {},
   "outputs": [],
   "source": [
    "# Importing keras directly didn't work, so I had to do it in a different way.\n",
    "# Check out the following link:\n",
    "# https://www.tensorflow.org/guide/keras/sequential_model\n",
    "from tensorflow import keras\n",
    "from tensorflow.keras.models import Sequential\n",
    "from tensorflow.keras.layers import Dense\n",
    "\n",
    "# define regression model\n",
    "def regression_model():\n",
    "    # create model\n",
    "    model = Sequential()\n",
    "    model.add(Dense(10, activation='relu', input_shape=(n_cols_norm,)))\n",
    "    model.add(Dense(1))\n",
    "    \n",
    "    # compile model\n",
    "    model.compile(optimizer='adam', loss='mean_squared_error')\n",
    "    return model"
   ]
  },
  {
   "cell_type": "markdown",
   "metadata": {},
   "source": [
    "### Train the model"
   ]
  },
  {
   "cell_type": "code",
   "execution_count": 13,
   "metadata": {},
   "outputs": [
    {
     "name": "stdout",
     "output_type": "stream",
     "text": [
      "Epoch 1/50\n",
      "23/23 [==============================] - 1s 6ms/step - loss: 1589.5701\n",
      "Epoch 2/50\n",
      "23/23 [==============================] - 0s 6ms/step - loss: 1513.1745\n",
      "Epoch 3/50\n",
      "23/23 [==============================] - 0s 6ms/step - loss: 1534.6821\n",
      "Epoch 4/50\n",
      "23/23 [==============================] - 0s 10ms/step - loss: 1460.5971\n",
      "Epoch 5/50\n",
      "23/23 [==============================] - 0s 5ms/step - loss: 1421.9681\n",
      "Epoch 6/50\n",
      "23/23 [==============================] - 0s 7ms/step - loss: 1407.8980\n",
      "Epoch 7/50\n",
      "23/23 [==============================] - 0s 6ms/step - loss: 1428.6672\n",
      "Epoch 8/50\n",
      "23/23 [==============================] - 0s 7ms/step - loss: 1422.0906\n",
      "Epoch 9/50\n",
      "23/23 [==============================] - 0s 7ms/step - loss: 1428.3819\n",
      "Epoch 10/50\n",
      "23/23 [==============================] - 0s 10ms/step - loss: 1397.8140\n",
      "Epoch 11/50\n",
      "23/23 [==============================] - 0s 7ms/step - loss: 1364.1613\n",
      "Epoch 12/50\n",
      "23/23 [==============================] - 0s 9ms/step - loss: 1326.8871\n",
      "Epoch 13/50\n",
      "23/23 [==============================] - 0s 7ms/step - loss: 1299.4014\n",
      "Epoch 14/50\n",
      "23/23 [==============================] - 0s 6ms/step - loss: 1342.4240\n",
      "Epoch 15/50\n",
      "23/23 [==============================] - 0s 8ms/step - loss: 1233.9557\n",
      "Epoch 16/50\n",
      "23/23 [==============================] - 0s 7ms/step - loss: 1239.8141\n",
      "Epoch 17/50\n",
      "23/23 [==============================] - 0s 9ms/step - loss: 1257.3001\n",
      "Epoch 18/50\n",
      "23/23 [==============================] - 0s 8ms/step - loss: 1176.7895\n",
      "Epoch 19/50\n",
      "23/23 [==============================] - 0s 5ms/step - loss: 1179.3610\n",
      "Epoch 20/50\n",
      "23/23 [==============================] - 0s 7ms/step - loss: 1078.0870\n",
      "Epoch 21/50\n",
      "23/23 [==============================] - 0s 7ms/step - loss: 1066.7285\n",
      "Epoch 22/50\n",
      "23/23 [==============================] - 0s 6ms/step - loss: 1051.1622\n",
      "Epoch 23/50\n",
      "23/23 [==============================] - 0s 9ms/step - loss: 1069.7518\n",
      "Epoch 24/50\n",
      "23/23 [==============================] - 0s 10ms/step - loss: 1025.3294 0s - loss: 103\n",
      "Epoch 25/50\n",
      "23/23 [==============================] - 0s 7ms/step - loss: 976.0583\n",
      "Epoch 26/50\n",
      "23/23 [==============================] - 0s 7ms/step - loss: 919.4781\n",
      "Epoch 27/50\n",
      "23/23 [==============================] - 0s 7ms/step - loss: 828.8939\n",
      "Epoch 28/50\n",
      "23/23 [==============================] - 0s 7ms/step - loss: 824.5979\n",
      "Epoch 29/50\n",
      "23/23 [==============================] - 0s 6ms/step - loss: 808.1646\n",
      "Epoch 30/50\n",
      "23/23 [==============================] - 0s 7ms/step - loss: 742.3804\n",
      "Epoch 31/50\n",
      "23/23 [==============================] - 0s 6ms/step - loss: 719.0173\n",
      "Epoch 32/50\n",
      "23/23 [==============================] - 0s 6ms/step - loss: 670.3523\n",
      "Epoch 33/50\n",
      "23/23 [==============================] - 0s 7ms/step - loss: 671.0610\n",
      "Epoch 34/50\n",
      "23/23 [==============================] - 0s 8ms/step - loss: 653.0000\n",
      "Epoch 35/50\n",
      "23/23 [==============================] - 0s 7ms/step - loss: 607.6038\n",
      "Epoch 36/50\n",
      "23/23 [==============================] - 0s 7ms/step - loss: 566.7533\n",
      "Epoch 37/50\n",
      "23/23 [==============================] - 0s 7ms/step - loss: 549.2945\n",
      "Epoch 38/50\n",
      "23/23 [==============================] - 0s 6ms/step - loss: 511.2981\n",
      "Epoch 39/50\n",
      "23/23 [==============================] - 0s 7ms/step - loss: 457.0916\n",
      "Epoch 40/50\n",
      "23/23 [==============================] - 0s 5ms/step - loss: 474.9292\n",
      "Epoch 41/50\n",
      "23/23 [==============================] - 0s 7ms/step - loss: 433.2407\n",
      "Epoch 42/50\n",
      "23/23 [==============================] - 0s 7ms/step - loss: 406.6535\n",
      "Epoch 43/50\n",
      "23/23 [==============================] - 0s 7ms/step - loss: 388.5977\n",
      "Epoch 44/50\n",
      "23/23 [==============================] - 0s 6ms/step - loss: 410.1581\n",
      "Epoch 45/50\n",
      "23/23 [==============================] - 0s 9ms/step - loss: 365.1357\n",
      "Epoch 46/50\n",
      "23/23 [==============================] - 0s 9ms/step - loss: 378.6195\n",
      "Epoch 47/50\n",
      "23/23 [==============================] - 0s 10ms/step - loss: 309.9509\n",
      "Epoch 48/50\n",
      "23/23 [==============================] - 0s 9ms/step - loss: 327.3869\n",
      "Epoch 49/50\n",
      "23/23 [==============================] - 0s 7ms/step - loss: 275.7944\n",
      "Epoch 50/50\n",
      "23/23 [==============================] - 0s 7ms/step - loss: 258.8781\n"
     ]
    },
    {
     "data": {
      "text/plain": [
       "<tensorflow.python.keras.callbacks.History at 0x7fb0781f8880>"
      ]
     },
     "execution_count": 13,
     "metadata": {},
     "output_type": "execute_result"
    }
   ],
   "source": [
    "model_norm = regression_model()\n",
    "# fit the model\n",
    "model_norm.fit(X_train_norm, y_train_norm, epochs=50, verbose=1)"
   ]
  },
  {
   "cell_type": "markdown",
   "metadata": {},
   "source": [
    "### Evaluate the model"
   ]
  },
  {
   "cell_type": "code",
   "execution_count": 14,
   "metadata": {},
   "outputs": [
    {
     "name": "stdout",
     "output_type": "stream",
     "text": [
      "test value: 353.83056640625\n"
     ]
    }
   ],
   "source": [
    "test_value = model_norm.evaluate(X_test_norm, y_test_norm, verbose=0)\n",
    "y_pred = model_norm.predict(X_test_norm)\n",
    "print(\"test value: \" + str(test_value))"
   ]
  },
  {
   "cell_type": "code",
   "execution_count": 15,
   "metadata": {},
   "outputs": [
    {
     "name": "stdout",
     "output_type": "stream",
     "text": [
      "mean: 353.83059401827757\n",
      "mean_square_error: 353.83059401827757\n",
      "standard_deviation: 0.0\n"
     ]
    }
   ],
   "source": [
    "from sklearn.metrics import mean_squared_error\n",
    "\n",
    "mean_square_error = mean_squared_error(y_test_norm, y_pred)\n",
    "mean = np.mean(mean_square_error)\n",
    "standard_deviation = np.std(mean_square_error)\n",
    "\n",
    "print(\"mean: \" + str(mean))\n",
    "print(\"mean_square_error: \" + str(mean_square_error))\n",
    "print(\"standard_deviation: \"+ str(standard_deviation))"
   ]
  },
  {
   "cell_type": "markdown",
   "metadata": {},
   "source": [
    "### Create a list of 50 mean squared errors"
   ]
  },
  {
   "cell_type": "code",
   "execution_count": 16,
   "metadata": {},
   "outputs": [
    {
     "name": "stdout",
     "output_type": "stream",
     "text": [
      "Mean Square Error #1: 124.72424755131368\n",
      "Mean Square Error #2: 88.03380829420415\n",
      "Mean Square Error #3: 78.99350044099047\n",
      "Mean Square Error #4: 73.57085905496223\n",
      "Mean Square Error #5: 52.84755323211245\n",
      "Mean Square Error #6: 44.52493978715135\n",
      "Mean Square Error #7: 42.13120985981707\n",
      "Mean Square Error #8: 41.23614799117803\n",
      "Mean Square Error #9: 40.972500152910484\n",
      "Mean Square Error #10: 40.82867109512698\n",
      "Mean Square Error #11: 40.683434239698286\n",
      "Mean Square Error #12: 40.58464158943507\n",
      "Mean Square Error #13: 40.27490343431841\n",
      "Mean Square Error #14: 40.41844729964414\n",
      "Mean Square Error #15: 40.35298785882243\n",
      "Mean Square Error #16: 40.176282833412024\n",
      "Mean Square Error #17: 39.78067897206421\n",
      "Mean Square Error #18: 39.8938659698712\n",
      "Mean Square Error #19: 39.710953423240625\n",
      "Mean Square Error #20: 39.5475229961758\n",
      "Mean Square Error #21: 39.551154705634545\n",
      "Mean Square Error #22: 39.58599186652963\n",
      "Mean Square Error #23: 39.593792862093494\n",
      "Mean Square Error #24: 39.606243183195886\n",
      "Mean Square Error #25: 39.56915236193301\n",
      "Mean Square Error #26: 39.555578082403365\n",
      "Mean Square Error #27: 39.65524757978751\n",
      "Mean Square Error #28: 39.56011110601554\n",
      "Mean Square Error #29: 39.62074960884511\n",
      "Mean Square Error #30: 39.660897486017696\n",
      "Mean Square Error #31: 39.62631174162628\n",
      "Mean Square Error #32: 39.51748461663022\n",
      "Mean Square Error #33: 39.68985529091201\n",
      "Mean Square Error #34: 39.66800154875717\n",
      "Mean Square Error #35: 39.65353902723162\n",
      "Mean Square Error #36: 39.59253301268344\n",
      "Mean Square Error #37: 39.82810235224603\n",
      "Mean Square Error #38: 39.67355511565313\n",
      "Mean Square Error #39: 39.440733835567436\n",
      "Mean Square Error #40: 39.206346570837894\n",
      "Mean Square Error #41: 39.27405020786919\n",
      "Mean Square Error #42: 39.201730132876264\n",
      "Mean Square Error #43: 39.1146677854059\n",
      "Mean Square Error #44: 38.987293626447084\n",
      "Mean Square Error #45: 39.00087772876712\n",
      "Mean Square Error #46: 38.971752627596715\n",
      "Mean Square Error #47: 39.01403756384958\n",
      "Mean Square Error #48: 38.96523712201555\n",
      "Mean Square Error #49: 38.84991349013378\n",
      "Mean Square Error #50: 38.87439691094336\n"
     ]
    }
   ],
   "source": [
    "total_mean_squared_errors_norm_epochs_large = 50\n",
    "epochs_large = 100\n",
    "mean_squared_errors_norm_epochs_large = []\n",
    "for i in range(total_mean_squared_errors_norm_epochs_large):\n",
    "    X_train_norm, X_test_norm, y_train_norm, y_test_norm = train_test_split(predictors_norm, target, test_size=0.3, random_state=101)\n",
    "    model_norm.fit(X_train_norm, y_train_norm, epochs=epochs_large, verbose=0)\n",
    "    y_pred_norm = model_norm.predict(X_test_norm)\n",
    "    mean_square_error_norm_epochs_large = mean_squared_error(y_test_norm, y_pred_norm)\n",
    "    print(\"Mean Square Error #\" + str(i+1) + \": \" + str(mean_square_error_norm_epochs_large))\n",
    "    \n",
    "    mean_squared_errors_norm_epochs_large.append(mean_square_error_norm_epochs_large)"
   ]
  },
  {
   "cell_type": "markdown",
   "metadata": {},
   "source": [
    "### Mean and Standard Deviation"
   ]
  },
  {
   "cell_type": "code",
   "execution_count": 17,
   "metadata": {},
   "outputs": [
    {
     "name": "stdout",
     "output_type": "stream",
     "text": [
      "epochs per training: 100\n",
      "Mean: 44.227929904539096\n",
      "Standard Deviation: 15.130911250554561\n"
     ]
    }
   ],
   "source": [
    "mean_squared_errors_norm_epochs_large = np.array(mean_squared_errors_norm_epochs_large)\n",
    "mean_norm_epochs_large = np.mean(mean_squared_errors_norm_epochs_large)\n",
    "standard_deviation_norm_epochs_large = np.std(mean_squared_errors_norm_epochs_large)\n",
    "\n",
    "print(\"epochs per training: \" + str(epochs_large))\n",
    "print(\"Mean: \" + str(mean_norm_epochs_large))\n",
    "print(\"Standard Deviation: \" + str(standard_deviation_norm_epochs_large))"
   ]
  },
  {
   "cell_type": "markdown",
   "metadata": {},
   "source": [
    "### Discussion\n",
    "Increasing the number of epochs tends to increase the accuracy. However, increasing the number of epochs can result in overfitting. The standard deviation for Part C is less than the standard deviations calculated for Parts A and B."
   ]
  },
  {
   "cell_type": "markdown",
   "metadata": {},
   "source": [
    "### References\n",
    "- [The Sequential model](https://www.tensorflow.org/guide/keras/sequential_model)\n",
    "- [Splitting Datasets With the Sklearn train_test_split Function](https://www.bitdegree.org/learn/train-test-split)\n",
    "- [Why random_state in train_test_split is equal 42](https://www.researchgate.net/post/Why_random_state_in_train_test_split_is_equal_42)\n",
    "- [Python | Mean Squared Error](https://www.geeksforgeeks.org/python-mean-squared-error/)"
   ]
  }
 ],
 "metadata": {
  "kernelspec": {
   "display_name": "Python 3.8",
   "language": "python",
   "name": "python3"
  },
  "language_info": {
   "codemirror_mode": {
    "name": "ipython",
    "version": 3
   },
   "file_extension": ".py",
   "mimetype": "text/x-python",
   "name": "python",
   "nbconvert_exporter": "python",
   "pygments_lexer": "ipython3",
   "version": "3.8.12"
  }
 },
 "nbformat": 4,
 "nbformat_minor": 1
}
